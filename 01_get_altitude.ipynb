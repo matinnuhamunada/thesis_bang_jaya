{
 "cells": [
  {
   "cell_type": "code",
   "execution_count": 1,
   "metadata": {},
   "outputs": [],
   "source": [
    "import requests\n",
    "import pandas as pd"
   ]
  },
  {
   "cell_type": "code",
   "execution_count": 2,
   "metadata": {},
   "outputs": [],
   "source": [
    "# script for returning elevation from lat, long, based on open elevation data\n",
    "# which in turn is based on SRTM\n",
    "def get_elevation(loc):\n",
    "    query = ('http://open.mapquestapi.com/elevation/v1/profile?key=am1tljXRZjwS1jQIK5d0cFmkslDJb5zz&shapeFormat=raw&latLngCollection='+loc)\n",
    "    r = requests.get(query).json()  # json object, various ways you can extract value\n",
    "    return r['elevationProfile'][0]['height']"
   ]
  },
  {
   "cell_type": "code",
   "execution_count": 4,
   "metadata": {},
   "outputs": [],
   "source": [
    "container = []\n",
    "df = pd.read_csv('input.csv', sep=';')\n",
    "for x in range(len(df)):\n",
    "    a = df.latitude[x].replace(',','.')\n",
    "    b = df.longitude[x].replace(',','.')\n",
    "    location = a+','+b\n",
    "    container.append(get_elevation(location))"
   ]
  },
  {
   "cell_type": "code",
   "execution_count": 5,
   "metadata": {},
   "outputs": [],
   "source": [
    "df['altitude'] = container"
   ]
  },
  {
   "cell_type": "code",
   "execution_count": 6,
   "metadata": {},
   "outputs": [],
   "source": [
    "df.to_csv('altitude.csv')"
   ]
  }
 ],
 "metadata": {
  "kernelspec": {
   "display_name": "Python 3",
   "language": "python",
   "name": "python3"
  },
  "language_info": {
   "codemirror_mode": {
    "name": "ipython",
    "version": 3
   },
   "file_extension": ".py",
   "mimetype": "text/x-python",
   "name": "python",
   "nbconvert_exporter": "python",
   "pygments_lexer": "ipython3",
   "version": "3.8.5"
  }
 },
 "nbformat": 4,
 "nbformat_minor": 4
}
